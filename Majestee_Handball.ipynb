{
  "nbformat": 4,
  "nbformat_minor": 0,
  "metadata": {
    "colab": {
      "name": "Majestee_Handball.ipynb",
      "provenance": [],
      "authorship_tag": "ABX9TyOQiz4QSqlMbWLPKr2QDglf",
      "include_colab_link": true
    },
    "kernelspec": {
      "name": "python3",
      "display_name": "Python 3"
    },
    "language_info": {
      "name": "python"
    }
  },
  "cells": [
    {
      "cell_type": "markdown",
      "metadata": {
        "id": "view-in-github",
        "colab_type": "text"
      },
      "source": [
        "<a href=\"https://colab.research.google.com/github/el-wil/scrapping/blob/main/Majestee_Handball.ipynb\" target=\"_parent\"><img src=\"https://colab.research.google.com/assets/colab-badge.svg\" alt=\"Open In Colab\"/></a>"
      ]
    },
    {
      "cell_type": "code",
      "execution_count": null,
      "metadata": {
        "colab": {
          "base_uri": "https://localhost:8080/"
        },
        "id": "6U0sEeqJon-z",
        "outputId": "fd718613-8f97-4dcb-e768-5439c9d1d3f0"
      },
      "outputs": [
        {
          "output_type": "stream",
          "name": "stdout",
          "text": [
            "Requirement already satisfied: BeautifulSoup4 in /usr/local/lib/python3.7/dist-packages (4.6.3)\n",
            "Requirement already satisfied: requests in /usr/local/lib/python3.7/dist-packages (2.23.0)\n",
            "Requirement already satisfied: certifi>=2017.4.17 in /usr/local/lib/python3.7/dist-packages (from requests) (2021.10.8)\n",
            "Requirement already satisfied: urllib3!=1.25.0,!=1.25.1,<1.26,>=1.21.1 in /usr/local/lib/python3.7/dist-packages (from requests) (1.24.3)\n",
            "Requirement already satisfied: idna<3,>=2.5 in /usr/local/lib/python3.7/dist-packages (from requests) (2.10)\n",
            "Requirement already satisfied: chardet<4,>=3.0.2 in /usr/local/lib/python3.7/dist-packages (from requests) (3.0.4)\n",
            "Requirement already satisfied: lxml in /usr/local/lib/python3.7/dist-packages (4.2.6)\n",
            "Requirement already satisfied: html-table-parser-python3 in /usr/local/lib/python3.7/dist-packages (0.2.0)\n",
            "Done\n"
          ]
        }
      ],
      "source": [
        "! pip install BeautifulSoup4\n",
        "! pip install requests\n",
        "! pip install lxml #third-party Python parser \n",
        "! pip install html-table-parser-python3 #table parser\n",
        "#! pip install xlsxwriter\n",
        "\n",
        "import requests\n",
        "from bs4 import BeautifulSoup\n",
        "import pandas as pd\n",
        "import urllib.request  #Library for opening url and creating requests\n",
        "#import numpy as np \n",
        "from pprint import pprint # pretty-print python data structures\n",
        "from html_table_parser.parser import HTMLTableParser # for parsing all the tables present on the website\n",
        "\n",
        "print(\"Done\")"
      ]
    },
    {
      "cell_type": "code",
      "source": [
        "headers = {'user-agent':'Mozilla/5.0 (Windows NT 10.0; Win64; x64; rv:93.0) Gecko/20100101 Firefox/93.0'}\n",
        "\n",
        "handball_Web = []\n",
        "handball_club = []\n",
        "\n"
      ],
      "metadata": {
        "id": "CJELYbOzo7s2"
      },
      "execution_count": null,
      "outputs": []
    },
    {
      "cell_type": "code",
      "source": [
        "#extract regions\n",
        "liste_Regions = ['Brabant', 'Hainaut', 'Liege', 'Luxembourg', 'Namur'] #copied from page\n",
        "liste_Regions_URL = []\n",
        "\n",
        "for i in liste_Regions :\n",
        " liste_Regions_URL.append('http://www.handball.be/clubs/'+i+'/0')\n",
        "\n",
        "liste_Regions_URL"
      ],
      "metadata": {
        "colab": {
          "base_uri": "https://localhost:8080/"
        },
        "id": "Fdxr4vvkwfWD",
        "outputId": "d844e6a0-848a-4da4-9f92-9242139297fb"
      },
      "execution_count": null,
      "outputs": [
        {
          "output_type": "execute_result",
          "data": {
            "text/plain": [
              "['http://www.handball.be/clubs/Brabant/0',\n",
              " 'http://www.handball.be/clubs/Hainaut/0',\n",
              " 'http://www.handball.be/clubs/Liege/0',\n",
              " 'http://www.handball.be/clubs/Luxembourg/0',\n",
              " 'http://www.handball.be/clubs/Namur/0']"
            ]
          },
          "metadata": {},
          "execution_count": 14
        }
      ]
    },
    {
      "cell_type": "code",
      "source": [
        "def url_get_contents(url):\n",
        " \n",
        "    # Opens a website and read its binary contents (HTTP Response Body)\n",
        "    #making request to the website\n",
        "    req = urllib.request.Request(url=url)\n",
        "    f = urllib.request.urlopen(req)\n",
        " \n",
        "    #reading contents of the website\n",
        "    return f.read()"
      ],
      "metadata": {
        "id": "s6RZJKF5qXia"
      },
      "execution_count": null,
      "outputs": []
    },
    {
      "cell_type": "code",
      "source": [
        "def getHandball(i):\n",
        "  url = f'http://www.handball.be/clubs/'+i+'/0'\n",
        "   \n",
        "  xhtml = url_get_contents(url).decode('utf-8')\n",
        "\n",
        "#beautiful soup\n",
        "  r = requests.get(url, headers=headers)\n",
        "  soup = BeautifulSoup(r.text, \"html.parser\")\n",
        "  \n",
        "#look for links and clubs\n",
        "  soup1 = soup.find_all('td', class_=\"views-field views-field-title\")\n",
        "\n",
        "  for item in soup1 :\n",
        "    web = item.find('a')\n",
        "    if web :\n",
        "      web = web.get('href')\n",
        "      handball_Web.append('http://www.handball.be'+web)\n",
        "\n",
        "#for item in soup1 :\n",
        "    club = item.find('a').text\n",
        "    if club :\n",
        "    #club = web.get('a').text\n",
        "      handball_club.append(club)"
      ],
      "metadata": {
        "id": "Alkm7yRvyw7x"
      },
      "execution_count": null,
      "outputs": []
    },
    {
      "cell_type": "code",
      "source": [
        "for i in liste_Regions:\n",
        "  getHandball(i)"
      ],
      "metadata": {
        "id": "Mqcin3yzzZUY"
      },
      "execution_count": null,
      "outputs": []
    },
    {
      "cell_type": "code",
      "source": [
        "print(len(handball_Web))\n",
        "print(len(handball_club))"
      ],
      "metadata": {
        "colab": {
          "base_uri": "https://localhost:8080/"
        },
        "id": "UsZMKnFG1nZP",
        "outputId": "f89eb6df-9bb7-4948-8d9d-0224e7d64122"
      },
      "execution_count": null,
      "outputs": [
        {
          "output_type": "stream",
          "name": "stdout",
          "text": [
            "36\n",
            "36\n"
          ]
        }
      ]
    },
    {
      "cell_type": "markdown",
      "source": [
        "analyser chaque page de club\n",
        "\n",
        "div class_=class=\"block-inner clearfix\"\n",
        "\n",
        "club: h1 id_=\"page-title\"\n",
        "\n",
        "contact\n",
        "div class_=\"fieldset-wrapper\"\n"
      ],
      "metadata": {
        "id": "tSL1gMM815SA"
      }
    },
    {
      "cell_type": "code",
      "source": [
        "url = f'http://www.handball.be/clubs/418-0'\n",
        "   \n",
        "xhtml = url_get_contents(url).decode('utf-8')\n",
        "\n",
        "#beautiful soup\n",
        "r = requests.get(url, headers=headers)\n",
        "potage = BeautifulSoup(r.text, \"html.parser\")\n",
        "  \n",
        "#look for club's name\n",
        "potageClub = potage.find('div', class_=\"block-inner clearfix\")\n",
        "\n",
        "nameClub = potageClub.find('h1', id_='page-title').text\n",
        "\n",
        "#nameClub\n",
        "\n",
        "print(potageClub)"
      ],
      "metadata": {
        "colab": {
          "base_uri": "https://localhost:8080/"
        },
        "id": "gDLApW9S2wh4",
        "outputId": "e4db0b6a-5ec8-4f46-e924-66fda12684ee"
      },
      "execution_count": null,
      "outputs": [
        {
          "output_type": "stream",
          "name": "stdout",
          "text": [
            "<div class=\"block-inner clearfix\">\n",
            "<div class=\"content clearfix\">\n",
            "<!--\r\n",
            "THIS FILE IS NOT USED AND IS HERE AS A STARTING POINT FOR CUSTOMIZATION ONLY.\r\n",
            "See http://api.drupal.org/api/function/theme_field/7 for details.\r\n",
            "After copying this file to your theme's folder and customizing it, remove this\r\n",
            "HTML comment.\r\n",
            "-->\n",
            "<div class=\"field field-name-field-image field-type-image field-label-hidden\">\n",
            "<div class=\"field-items\">\n",
            "<div class=\"field-item even\"><img alt=\"\" height=\"260\" src=\"http://www.handball.be/media/styles/header/public/headers/ROC.jpg?itok=8GEY_sRI\" typeof=\"foaf:Image\" width=\"960\"/></div>\n",
            "</div>\n",
            "</div>\n",
            "</div>\n",
            "</div>\n"
          ]
        }
      ]
    },
    {
      "cell_type": "code",
      "source": [
        "nameClub"
      ],
      "metadata": {
        "id": "FxtzHIhR3Pkm"
      },
      "execution_count": null,
      "outputs": []
    },
    {
      "cell_type": "code",
      "source": [
        ""
      ],
      "metadata": {
        "id": "5lcdHhxq3edr"
      },
      "execution_count": null,
      "outputs": []
    }
  ]
}