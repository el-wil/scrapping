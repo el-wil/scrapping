{
  "nbformat": 4,
  "nbformat_minor": 0,
  "metadata": {
    "colab": {
      "name": "Weenkorp-hockey-v2.ipynb",
      "provenance": [],
      "authorship_tag": "ABX9TyMg+7BSlXEYnuL/0QBp7BqE",
      "include_colab_link": true
    },
    "kernelspec": {
      "name": "python3",
      "display_name": "Python 3"
    },
    "language_info": {
      "name": "python"
    }
  },
  "cells": [
    {
      "cell_type": "markdown",
      "metadata": {
        "id": "view-in-github",
        "colab_type": "text"
      },
      "source": [
        "<a href=\"https://colab.research.google.com/github/el-wil/scrapping/blob/main/Weenkorp_hockey_v2.ipynb\" target=\"_parent\"><img src=\"https://colab.research.google.com/assets/colab-badge.svg\" alt=\"Open In Colab\"/></a>"
      ]
    },
    {
      "cell_type": "code",
      "execution_count": null,
      "metadata": {
        "colab": {
          "base_uri": "https://localhost:8080/"
        },
        "id": "Nn0x9qSJD7Qx",
        "outputId": "7e9b49e3-d8fe-427c-db7a-33d9d3297e42"
      },
      "outputs": [
        {
          "output_type": "stream",
          "name": "stdout",
          "text": [
            "Requirement already satisfied: BeautifulSoup4 in /usr/local/lib/python3.7/dist-packages (4.6.3)\n",
            "Requirement already satisfied: requests in /usr/local/lib/python3.7/dist-packages (2.23.0)\n",
            "Requirement already satisfied: certifi>=2017.4.17 in /usr/local/lib/python3.7/dist-packages (from requests) (2021.10.8)\n",
            "Requirement already satisfied: urllib3!=1.25.0,!=1.25.1,<1.26,>=1.21.1 in /usr/local/lib/python3.7/dist-packages (from requests) (1.24.3)\n",
            "Requirement already satisfied: idna<3,>=2.5 in /usr/local/lib/python3.7/dist-packages (from requests) (2.10)\n",
            "Requirement already satisfied: chardet<4,>=3.0.2 in /usr/local/lib/python3.7/dist-packages (from requests) (3.0.4)\n",
            "Requirement already satisfied: lxml in /usr/local/lib/python3.7/dist-packages (4.2.6)\n",
            "Collecting html-table-parser-python3\n",
            "  Downloading html_table_parser_python3-0.2.0-py3-none-any.whl (15 kB)\n",
            "Installing collected packages: html-table-parser-python3\n",
            "Successfully installed html-table-parser-python3-0.2.0\n",
            "Done\n"
          ]
        }
      ],
      "source": [
        "! pip install BeautifulSoup4\n",
        "! pip install requests\n",
        "! pip install lxml #third-party Python parser \n",
        "! pip install html-table-parser-python3 #table parser\n",
        "#! pip install xlsxwriter\n",
        "\n",
        "import requests\n",
        "from bs4 import BeautifulSoup\n",
        "import pandas as pd\n",
        "import urllib.request  #Library for opening url and creating requests\n",
        "import numpy as np \n",
        "from pprint import pprint # pretty-print python data structures\n",
        "from html_table_parser.parser import HTMLTableParser # for parsing all the tables present on the website\n",
        "\n",
        "print(\"Done\")"
      ]
    },
    {
      "cell_type": "markdown",
      "source": [
        "1.   create a function to parse tables\n",
        "2.   create a function to extract table from team pages\n",
        "3.   export"
      ],
      "metadata": {
        "id": "wJQsnlilA2gq"
      }
    },
    {
      "cell_type": "code",
      "source": [
        "headers = {'user-agent':'Mozilla/5.0 (Windows NT 10.0; Win64; x64; rv:93.0) Gecko/20100101 Firefox/93.0'}\n",
        "\n",
        "data = []\n",
        "dataHockey = []\n",
        "team = []\n",
        "dataClub = []"
      ],
      "metadata": {
        "id": "geJPYO6eDjWU"
      },
      "execution_count": null,
      "outputs": []
    },
    {
      "cell_type": "code",
      "source": [
        "data.clear()\n",
        "dataHockey.clear()\n",
        "team.clear()\n",
        "dataClub.clear()"
      ],
      "metadata": {
        "id": "OCm4USAUwL59"
      },
      "execution_count": null,
      "outputs": []
    },
    {
      "cell_type": "code",
      "source": [
        "#extraire code du excel\n",
        "#df => liste des clubs de hockey\n",
        "\n",
        "df = pd.read_excel('/content/liste_clubs_hockey_2022042.xlsx')\n",
        "df = df['Code']\n",
        "\n",
        "#turn dataframe into a list\n",
        "Code = df.values.tolist()"
      ],
      "metadata": {
        "id": "bgQeEIAesrRi"
      },
      "execution_count": null,
      "outputs": []
    },
    {
      "cell_type": "code",
      "source": [
        "## 1. Parsing table\n",
        "\n",
        "# Opens a website and read its  binary contents (HTTP Response Body)\n",
        "def url_get_contents(url):\n",
        " \n",
        "    # Opens a website and read its binary contents (HTTP Response Body)\n",
        "    #making request to the website\n",
        "    req = urllib.request.Request(url=url)\n",
        "    f = urllib.request.urlopen(req)\n",
        " \n",
        "    #reading contents of the website\n",
        "    return f.read()"
      ],
      "metadata": {
        "id": "0N7SXbveDN__"
      },
      "execution_count": null,
      "outputs": []
    },
    {
      "cell_type": "code",
      "source": [
        "#2. scrapper\n",
        "def getHockey(code):\n",
        "  url = f'https://hockey.be/fr/club-details/?id={code}'\n",
        "\n",
        "  xhtml = url_get_contents(url).decode('utf-8')\n",
        "\n",
        "#fonction part 2: table\n",
        "\n",
        "  # Defining the HTMLTableParser object\n",
        "  p = HTMLTableParser()\n",
        " \n",
        "  # feeding the html contents in the HTMLTableParser object\n",
        "  p.feed(xhtml)\n",
        " \n",
        "  # Now finally obtaining the data of the table required\n",
        "  #pprint(p.tables[1])\n",
        "\n",
        "  #append list\n",
        "  data = (p.tables[1])\n",
        "#  ['Adresse', 'Wittebrugstraat 6'],\n",
        " # ['Code postal', '4562CA'],\n",
        " # ['Localité', 'HULST'],\n",
        " # ['Téléphone', '0031 114-312510'],\n",
        " # ['E-mail', 'info@mhcrapide.nl'],\n",
        " # ['Site web', 'http://www.mhcrapide.nl']],\n",
        "  dataClub.append(data)\n",
        "\n",
        "  return"
      ],
      "metadata": {
        "id": "ye8mjU8qTXEj"
      },
      "execution_count": null,
      "outputs": []
    },
    {
      "cell_type": "code",
      "source": [
        "def getTeamHockey(code):\n",
        "  url = f'https://hockey.be/fr/club-details/?id={code}'\n",
        "\n",
        "  #beautiful soup\n",
        "  r = requests.get(url, headers=headers)\n",
        "  soup = BeautifulSoup(r.text, \"html.parser\")\n",
        "  \n",
        "#fonction part 1: title\n",
        "  name = soup.find('h1', class_=\"club-name\").text\n",
        "  team.append(name)\n",
        "\n",
        "  return"
      ],
      "metadata": {
        "id": "Y2-6h-9EgLmJ"
      },
      "execution_count": null,
      "outputs": []
    },
    {
      "cell_type": "code",
      "source": [
        "for i in Code:\n",
        "  getHockey(i)\n",
        "  getTeamHockey(i)"
      ],
      "metadata": {
        "id": "YxAjmFQlDJXP"
      },
      "execution_count": null,
      "outputs": []
    },
    {
      "cell_type": "code",
      "source": [
        "#exporter les resultats dans un nouveau xls\n",
        "#pas de titre de catégorie car pas de titre dans les données (seulement du html à nettoyer par la suite)\n",
        "dfHockey= pd.DataFrame(dataClub)\n",
        "#PAS NECESSAIRE MAINTENANT dfR.to_excel('Majestee_Hockey0.xlsx', sheet_name = \"détails\" )\n",
        "\n",
        "dfTeam = pd.DataFrame(team)\n",
        "#dfR2.to_excel('Majestee_Hockey0.xlsx', sheet_name = \"teams\" )\n",
        "\n",
        "print(\"done\")\n"
      ],
      "metadata": {
        "colab": {
          "base_uri": "https://localhost:8080/"
        },
        "id": "jMyz1lSkFBUd",
        "outputId": "752a5d51-0806-4cbd-a89e-8e6c7e75361a"
      },
      "execution_count": null,
      "outputs": [
        {
          "output_type": "stream",
          "name": "stdout",
          "text": [
            "done\n"
          ]
        }
      ]
    },
    {
      "cell_type": "code",
      "source": [
        "dfTeam"
      ],
      "metadata": {
        "colab": {
          "base_uri": "https://localhost:8080/",
          "height": 112
        },
        "id": "F-_OaaU83nsH",
        "outputId": "93e05e31-64cc-4dcf-a607-1f9fa2087d03"
      },
      "execution_count": null,
      "outputs": [
        {
          "output_type": "execute_result",
          "data": {
            "text/plain": [
              "                    0\n",
              "0        Rapide Hulst\n",
              "1  Amicale Anderlecht"
            ],
            "text/html": [
              "\n",
              "  <div id=\"df-71714013-b813-4c2d-ab80-65026419bcd1\">\n",
              "    <div class=\"colab-df-container\">\n",
              "      <div>\n",
              "<style scoped>\n",
              "    .dataframe tbody tr th:only-of-type {\n",
              "        vertical-align: middle;\n",
              "    }\n",
              "\n",
              "    .dataframe tbody tr th {\n",
              "        vertical-align: top;\n",
              "    }\n",
              "\n",
              "    .dataframe thead th {\n",
              "        text-align: right;\n",
              "    }\n",
              "</style>\n",
              "<table border=\"1\" class=\"dataframe\">\n",
              "  <thead>\n",
              "    <tr style=\"text-align: right;\">\n",
              "      <th></th>\n",
              "      <th>0</th>\n",
              "    </tr>\n",
              "  </thead>\n",
              "  <tbody>\n",
              "    <tr>\n",
              "      <th>0</th>\n",
              "      <td>Rapide Hulst</td>\n",
              "    </tr>\n",
              "    <tr>\n",
              "      <th>1</th>\n",
              "      <td>Amicale Anderlecht</td>\n",
              "    </tr>\n",
              "  </tbody>\n",
              "</table>\n",
              "</div>\n",
              "      <button class=\"colab-df-convert\" onclick=\"convertToInteractive('df-71714013-b813-4c2d-ab80-65026419bcd1')\"\n",
              "              title=\"Convert this dataframe to an interactive table.\"\n",
              "              style=\"display:none;\">\n",
              "        \n",
              "  <svg xmlns=\"http://www.w3.org/2000/svg\" height=\"24px\"viewBox=\"0 0 24 24\"\n",
              "       width=\"24px\">\n",
              "    <path d=\"M0 0h24v24H0V0z\" fill=\"none\"/>\n",
              "    <path d=\"M18.56 5.44l.94 2.06.94-2.06 2.06-.94-2.06-.94-.94-2.06-.94 2.06-2.06.94zm-11 1L8.5 8.5l.94-2.06 2.06-.94-2.06-.94L8.5 2.5l-.94 2.06-2.06.94zm10 10l.94 2.06.94-2.06 2.06-.94-2.06-.94-.94-2.06-.94 2.06-2.06.94z\"/><path d=\"M17.41 7.96l-1.37-1.37c-.4-.4-.92-.59-1.43-.59-.52 0-1.04.2-1.43.59L10.3 9.45l-7.72 7.72c-.78.78-.78 2.05 0 2.83L4 21.41c.39.39.9.59 1.41.59.51 0 1.02-.2 1.41-.59l7.78-7.78 2.81-2.81c.8-.78.8-2.07 0-2.86zM5.41 20L4 18.59l7.72-7.72 1.47 1.35L5.41 20z\"/>\n",
              "  </svg>\n",
              "      </button>\n",
              "      \n",
              "  <style>\n",
              "    .colab-df-container {\n",
              "      display:flex;\n",
              "      flex-wrap:wrap;\n",
              "      gap: 12px;\n",
              "    }\n",
              "\n",
              "    .colab-df-convert {\n",
              "      background-color: #E8F0FE;\n",
              "      border: none;\n",
              "      border-radius: 50%;\n",
              "      cursor: pointer;\n",
              "      display: none;\n",
              "      fill: #1967D2;\n",
              "      height: 32px;\n",
              "      padding: 0 0 0 0;\n",
              "      width: 32px;\n",
              "    }\n",
              "\n",
              "    .colab-df-convert:hover {\n",
              "      background-color: #E2EBFA;\n",
              "      box-shadow: 0px 1px 2px rgba(60, 64, 67, 0.3), 0px 1px 3px 1px rgba(60, 64, 67, 0.15);\n",
              "      fill: #174EA6;\n",
              "    }\n",
              "\n",
              "    [theme=dark] .colab-df-convert {\n",
              "      background-color: #3B4455;\n",
              "      fill: #D2E3FC;\n",
              "    }\n",
              "\n",
              "    [theme=dark] .colab-df-convert:hover {\n",
              "      background-color: #434B5C;\n",
              "      box-shadow: 0px 1px 3px 1px rgba(0, 0, 0, 0.15);\n",
              "      filter: drop-shadow(0px 1px 2px rgba(0, 0, 0, 0.3));\n",
              "      fill: #FFFFFF;\n",
              "    }\n",
              "  </style>\n",
              "\n",
              "      <script>\n",
              "        const buttonEl =\n",
              "          document.querySelector('#df-71714013-b813-4c2d-ab80-65026419bcd1 button.colab-df-convert');\n",
              "        buttonEl.style.display =\n",
              "          google.colab.kernel.accessAllowed ? 'block' : 'none';\n",
              "\n",
              "        async function convertToInteractive(key) {\n",
              "          const element = document.querySelector('#df-71714013-b813-4c2d-ab80-65026419bcd1');\n",
              "          const dataTable =\n",
              "            await google.colab.kernel.invokeFunction('convertToInteractive',\n",
              "                                                     [key], {});\n",
              "          if (!dataTable) return;\n",
              "\n",
              "          const docLinkHtml = 'Like what you see? Visit the ' +\n",
              "            '<a target=\"_blank\" href=https://colab.research.google.com/notebooks/data_table.ipynb>data table notebook</a>'\n",
              "            + ' to learn more about interactive tables.';\n",
              "          element.innerHTML = '';\n",
              "          dataTable['output_type'] = 'display_data';\n",
              "          await google.colab.output.renderOutput(dataTable, element);\n",
              "          const docLink = document.createElement('div');\n",
              "          docLink.innerHTML = docLinkHtml;\n",
              "          element.appendChild(docLink);\n",
              "        }\n",
              "      </script>\n",
              "    </div>\n",
              "  </div>\n",
              "  "
            ]
          },
          "metadata": {},
          "execution_count": 11
        }
      ]
    },
    {
      "cell_type": "code",
      "source": [
        "dfHockey"
      ],
      "metadata": {
        "colab": {
          "base_uri": "https://localhost:8080/",
          "height": 191
        },
        "id": "46ZrO-ta30wj",
        "outputId": "4f0e333e-7ff8-456e-c405-c6173dd08bd2"
      },
      "execution_count": null,
      "outputs": [
        {
          "output_type": "execute_result",
          "data": {
            "text/plain": [
              "                    0                                  1  \\\n",
              "0  [Club ID, CF4MF9Y]       [Adresse, Wittebrugstraat 6]   \n",
              "1  [Club ID, CC6TZ1Y]  [Adresse, Bd. Maurice Carême  30]   \n",
              "\n",
              "                       2                       3  \\\n",
              "0  [Code postal, 4562CA]       [Localité, HULST]   \n",
              "1    [Code postal, 1070]  [Localité, ANDERLECHT]   \n",
              "\n",
              "                              4                                             5  \\\n",
              "0  [Téléphone, 0031 114-312510]                   [E-mail, info@mhcrapide.nl]   \n",
              "1                 [Téléphone, ]  [E-mail, secretariat@amicale-anderlecht.com]   \n",
              "\n",
              "                                               6  \n",
              "0            [Site web, http://www.mhcrapide.nl]  \n",
              "1  [Site web, http://www.amicale-anderlecht.com]  "
            ],
            "text/html": [
              "\n",
              "  <div id=\"df-0423c8af-bf13-44fe-892a-a11311f48c3e\">\n",
              "    <div class=\"colab-df-container\">\n",
              "      <div>\n",
              "<style scoped>\n",
              "    .dataframe tbody tr th:only-of-type {\n",
              "        vertical-align: middle;\n",
              "    }\n",
              "\n",
              "    .dataframe tbody tr th {\n",
              "        vertical-align: top;\n",
              "    }\n",
              "\n",
              "    .dataframe thead th {\n",
              "        text-align: right;\n",
              "    }\n",
              "</style>\n",
              "<table border=\"1\" class=\"dataframe\">\n",
              "  <thead>\n",
              "    <tr style=\"text-align: right;\">\n",
              "      <th></th>\n",
              "      <th>0</th>\n",
              "      <th>1</th>\n",
              "      <th>2</th>\n",
              "      <th>3</th>\n",
              "      <th>4</th>\n",
              "      <th>5</th>\n",
              "      <th>6</th>\n",
              "    </tr>\n",
              "  </thead>\n",
              "  <tbody>\n",
              "    <tr>\n",
              "      <th>0</th>\n",
              "      <td>[Club ID, CF4MF9Y]</td>\n",
              "      <td>[Adresse, Wittebrugstraat 6]</td>\n",
              "      <td>[Code postal, 4562CA]</td>\n",
              "      <td>[Localité, HULST]</td>\n",
              "      <td>[Téléphone, 0031 114-312510]</td>\n",
              "      <td>[E-mail, info@mhcrapide.nl]</td>\n",
              "      <td>[Site web, http://www.mhcrapide.nl]</td>\n",
              "    </tr>\n",
              "    <tr>\n",
              "      <th>1</th>\n",
              "      <td>[Club ID, CC6TZ1Y]</td>\n",
              "      <td>[Adresse, Bd. Maurice Carême  30]</td>\n",
              "      <td>[Code postal, 1070]</td>\n",
              "      <td>[Localité, ANDERLECHT]</td>\n",
              "      <td>[Téléphone, ]</td>\n",
              "      <td>[E-mail, secretariat@amicale-anderlecht.com]</td>\n",
              "      <td>[Site web, http://www.amicale-anderlecht.com]</td>\n",
              "    </tr>\n",
              "  </tbody>\n",
              "</table>\n",
              "</div>\n",
              "      <button class=\"colab-df-convert\" onclick=\"convertToInteractive('df-0423c8af-bf13-44fe-892a-a11311f48c3e')\"\n",
              "              title=\"Convert this dataframe to an interactive table.\"\n",
              "              style=\"display:none;\">\n",
              "        \n",
              "  <svg xmlns=\"http://www.w3.org/2000/svg\" height=\"24px\"viewBox=\"0 0 24 24\"\n",
              "       width=\"24px\">\n",
              "    <path d=\"M0 0h24v24H0V0z\" fill=\"none\"/>\n",
              "    <path d=\"M18.56 5.44l.94 2.06.94-2.06 2.06-.94-2.06-.94-.94-2.06-.94 2.06-2.06.94zm-11 1L8.5 8.5l.94-2.06 2.06-.94-2.06-.94L8.5 2.5l-.94 2.06-2.06.94zm10 10l.94 2.06.94-2.06 2.06-.94-2.06-.94-.94-2.06-.94 2.06-2.06.94z\"/><path d=\"M17.41 7.96l-1.37-1.37c-.4-.4-.92-.59-1.43-.59-.52 0-1.04.2-1.43.59L10.3 9.45l-7.72 7.72c-.78.78-.78 2.05 0 2.83L4 21.41c.39.39.9.59 1.41.59.51 0 1.02-.2 1.41-.59l7.78-7.78 2.81-2.81c.8-.78.8-2.07 0-2.86zM5.41 20L4 18.59l7.72-7.72 1.47 1.35L5.41 20z\"/>\n",
              "  </svg>\n",
              "      </button>\n",
              "      \n",
              "  <style>\n",
              "    .colab-df-container {\n",
              "      display:flex;\n",
              "      flex-wrap:wrap;\n",
              "      gap: 12px;\n",
              "    }\n",
              "\n",
              "    .colab-df-convert {\n",
              "      background-color: #E8F0FE;\n",
              "      border: none;\n",
              "      border-radius: 50%;\n",
              "      cursor: pointer;\n",
              "      display: none;\n",
              "      fill: #1967D2;\n",
              "      height: 32px;\n",
              "      padding: 0 0 0 0;\n",
              "      width: 32px;\n",
              "    }\n",
              "\n",
              "    .colab-df-convert:hover {\n",
              "      background-color: #E2EBFA;\n",
              "      box-shadow: 0px 1px 2px rgba(60, 64, 67, 0.3), 0px 1px 3px 1px rgba(60, 64, 67, 0.15);\n",
              "      fill: #174EA6;\n",
              "    }\n",
              "\n",
              "    [theme=dark] .colab-df-convert {\n",
              "      background-color: #3B4455;\n",
              "      fill: #D2E3FC;\n",
              "    }\n",
              "\n",
              "    [theme=dark] .colab-df-convert:hover {\n",
              "      background-color: #434B5C;\n",
              "      box-shadow: 0px 1px 3px 1px rgba(0, 0, 0, 0.15);\n",
              "      filter: drop-shadow(0px 1px 2px rgba(0, 0, 0, 0.3));\n",
              "      fill: #FFFFFF;\n",
              "    }\n",
              "  </style>\n",
              "\n",
              "      <script>\n",
              "        const buttonEl =\n",
              "          document.querySelector('#df-0423c8af-bf13-44fe-892a-a11311f48c3e button.colab-df-convert');\n",
              "        buttonEl.style.display =\n",
              "          google.colab.kernel.accessAllowed ? 'block' : 'none';\n",
              "\n",
              "        async function convertToInteractive(key) {\n",
              "          const element = document.querySelector('#df-0423c8af-bf13-44fe-892a-a11311f48c3e');\n",
              "          const dataTable =\n",
              "            await google.colab.kernel.invokeFunction('convertToInteractive',\n",
              "                                                     [key], {});\n",
              "          if (!dataTable) return;\n",
              "\n",
              "          const docLinkHtml = 'Like what you see? Visit the ' +\n",
              "            '<a target=\"_blank\" href=https://colab.research.google.com/notebooks/data_table.ipynb>data table notebook</a>'\n",
              "            + ' to learn more about interactive tables.';\n",
              "          element.innerHTML = '';\n",
              "          dataTable['output_type'] = 'display_data';\n",
              "          await google.colab.output.renderOutput(dataTable, element);\n",
              "          const docLink = document.createElement('div');\n",
              "          docLink.innerHTML = docLinkHtml;\n",
              "          element.appendChild(docLink);\n",
              "        }\n",
              "      </script>\n",
              "    </div>\n",
              "  </div>\n",
              "  "
            ]
          },
          "metadata": {},
          "execution_count": 12
        }
      ]
    },
    {
      "cell_type": "code",
      "source": [
        "dfTITLE = dfTITLE.join(dfDATACLUB)"
      ],
      "metadata": {
        "colab": {
          "base_uri": "https://localhost:8080/",
          "height": 312
        },
        "id": "-gQcAoyv34NI",
        "outputId": "776f9097-77dd-42cd-ca9c-66525dcc2d6c"
      },
      "execution_count": null,
      "outputs": [
        {
          "output_type": "error",
          "ename": "ValueError",
          "evalue": "ignored",
          "traceback": [
            "\u001b[0;31m---------------------------------------------------------------------------\u001b[0m",
            "\u001b[0;31mValueError\u001b[0m                                Traceback (most recent call last)",
            "\u001b[0;32m<ipython-input-151-47163f76f63e>\u001b[0m in \u001b[0;36m<module>\u001b[0;34m()\u001b[0m\n\u001b[0;32m----> 1\u001b[0;31m \u001b[0mdfTITLE\u001b[0m \u001b[0;34m=\u001b[0m \u001b[0mdfTITLE\u001b[0m\u001b[0;34m.\u001b[0m\u001b[0mjoin\u001b[0m\u001b[0;34m(\u001b[0m\u001b[0mdfDATACLUB\u001b[0m\u001b[0;34m)\u001b[0m\u001b[0;34m\u001b[0m\u001b[0;34m\u001b[0m\u001b[0m\n\u001b[0m",
            "\u001b[0;32m/usr/local/lib/python3.7/dist-packages/pandas/core/frame.py\u001b[0m in \u001b[0;36mjoin\u001b[0;34m(self, other, on, how, lsuffix, rsuffix, sort)\u001b[0m\n\u001b[1;32m   9098\u001b[0m         \"\"\"\n\u001b[1;32m   9099\u001b[0m         return self._join_compat(\n\u001b[0;32m-> 9100\u001b[0;31m             \u001b[0mother\u001b[0m\u001b[0;34m,\u001b[0m \u001b[0mon\u001b[0m\u001b[0;34m=\u001b[0m\u001b[0mon\u001b[0m\u001b[0;34m,\u001b[0m \u001b[0mhow\u001b[0m\u001b[0;34m=\u001b[0m\u001b[0mhow\u001b[0m\u001b[0;34m,\u001b[0m \u001b[0mlsuffix\u001b[0m\u001b[0;34m=\u001b[0m\u001b[0mlsuffix\u001b[0m\u001b[0;34m,\u001b[0m \u001b[0mrsuffix\u001b[0m\u001b[0;34m=\u001b[0m\u001b[0mrsuffix\u001b[0m\u001b[0;34m,\u001b[0m \u001b[0msort\u001b[0m\u001b[0;34m=\u001b[0m\u001b[0msort\u001b[0m\u001b[0;34m\u001b[0m\u001b[0;34m\u001b[0m\u001b[0m\n\u001b[0m\u001b[1;32m   9101\u001b[0m         )\n\u001b[1;32m   9102\u001b[0m \u001b[0;34m\u001b[0m\u001b[0m\n",
            "\u001b[0;32m/usr/local/lib/python3.7/dist-packages/pandas/core/frame.py\u001b[0m in \u001b[0;36m_join_compat\u001b[0;34m(self, other, on, how, lsuffix, rsuffix, sort)\u001b[0m\n\u001b[1;32m   9136\u001b[0m                 \u001b[0mright_index\u001b[0m\u001b[0;34m=\u001b[0m\u001b[0;32mTrue\u001b[0m\u001b[0;34m,\u001b[0m\u001b[0;34m\u001b[0m\u001b[0;34m\u001b[0m\u001b[0m\n\u001b[1;32m   9137\u001b[0m                 \u001b[0msuffixes\u001b[0m\u001b[0;34m=\u001b[0m\u001b[0;34m(\u001b[0m\u001b[0mlsuffix\u001b[0m\u001b[0;34m,\u001b[0m \u001b[0mrsuffix\u001b[0m\u001b[0;34m)\u001b[0m\u001b[0;34m,\u001b[0m\u001b[0;34m\u001b[0m\u001b[0;34m\u001b[0m\u001b[0m\n\u001b[0;32m-> 9138\u001b[0;31m                 \u001b[0msort\u001b[0m\u001b[0;34m=\u001b[0m\u001b[0msort\u001b[0m\u001b[0;34m,\u001b[0m\u001b[0;34m\u001b[0m\u001b[0;34m\u001b[0m\u001b[0m\n\u001b[0m\u001b[1;32m   9139\u001b[0m             )\n\u001b[1;32m   9140\u001b[0m         \u001b[0;32melse\u001b[0m\u001b[0;34m:\u001b[0m\u001b[0;34m\u001b[0m\u001b[0;34m\u001b[0m\u001b[0m\n",
            "\u001b[0;32m/usr/local/lib/python3.7/dist-packages/pandas/core/reshape/merge.py\u001b[0m in \u001b[0;36mmerge\u001b[0;34m(left, right, how, on, left_on, right_on, left_index, right_index, sort, suffixes, copy, indicator, validate)\u001b[0m\n\u001b[1;32m    119\u001b[0m         \u001b[0mvalidate\u001b[0m\u001b[0;34m=\u001b[0m\u001b[0mvalidate\u001b[0m\u001b[0;34m,\u001b[0m\u001b[0;34m\u001b[0m\u001b[0;34m\u001b[0m\u001b[0m\n\u001b[1;32m    120\u001b[0m     )\n\u001b[0;32m--> 121\u001b[0;31m     \u001b[0;32mreturn\u001b[0m \u001b[0mop\u001b[0m\u001b[0;34m.\u001b[0m\u001b[0mget_result\u001b[0m\u001b[0;34m(\u001b[0m\u001b[0;34m)\u001b[0m\u001b[0;34m\u001b[0m\u001b[0;34m\u001b[0m\u001b[0m\n\u001b[0m\u001b[1;32m    122\u001b[0m \u001b[0;34m\u001b[0m\u001b[0m\n\u001b[1;32m    123\u001b[0m \u001b[0;34m\u001b[0m\u001b[0m\n",
            "\u001b[0;32m/usr/local/lib/python3.7/dist-packages/pandas/core/reshape/merge.py\u001b[0m in \u001b[0;36mget_result\u001b[0;34m(self)\u001b[0m\n\u001b[1;32m    716\u001b[0m \u001b[0;34m\u001b[0m\u001b[0m\n\u001b[1;32m    717\u001b[0m         llabels, rlabels = _items_overlap_with_suffix(\n\u001b[0;32m--> 718\u001b[0;31m             \u001b[0mself\u001b[0m\u001b[0;34m.\u001b[0m\u001b[0mleft\u001b[0m\u001b[0;34m.\u001b[0m\u001b[0m_info_axis\u001b[0m\u001b[0;34m,\u001b[0m \u001b[0mself\u001b[0m\u001b[0;34m.\u001b[0m\u001b[0mright\u001b[0m\u001b[0;34m.\u001b[0m\u001b[0m_info_axis\u001b[0m\u001b[0;34m,\u001b[0m \u001b[0mself\u001b[0m\u001b[0;34m.\u001b[0m\u001b[0msuffixes\u001b[0m\u001b[0;34m\u001b[0m\u001b[0;34m\u001b[0m\u001b[0m\n\u001b[0m\u001b[1;32m    719\u001b[0m         )\n\u001b[1;32m    720\u001b[0m \u001b[0;34m\u001b[0m\u001b[0m\n",
            "\u001b[0;32m/usr/local/lib/python3.7/dist-packages/pandas/core/reshape/merge.py\u001b[0m in \u001b[0;36m_items_overlap_with_suffix\u001b[0;34m(left, right, suffixes)\u001b[0m\n\u001b[1;32m   2312\u001b[0m \u001b[0;34m\u001b[0m\u001b[0m\n\u001b[1;32m   2313\u001b[0m     \u001b[0;32mif\u001b[0m \u001b[0;32mnot\u001b[0m \u001b[0mlsuffix\u001b[0m \u001b[0;32mand\u001b[0m \u001b[0;32mnot\u001b[0m \u001b[0mrsuffix\u001b[0m\u001b[0;34m:\u001b[0m\u001b[0;34m\u001b[0m\u001b[0;34m\u001b[0m\u001b[0m\n\u001b[0;32m-> 2314\u001b[0;31m         \u001b[0;32mraise\u001b[0m \u001b[0mValueError\u001b[0m\u001b[0;34m(\u001b[0m\u001b[0;34mf\"columns overlap but no suffix specified: {to_rename}\"\u001b[0m\u001b[0;34m)\u001b[0m\u001b[0;34m\u001b[0m\u001b[0;34m\u001b[0m\u001b[0m\n\u001b[0m\u001b[1;32m   2315\u001b[0m \u001b[0;34m\u001b[0m\u001b[0m\n\u001b[1;32m   2316\u001b[0m     \u001b[0;32mdef\u001b[0m \u001b[0mrenamer\u001b[0m\u001b[0;34m(\u001b[0m\u001b[0mx\u001b[0m\u001b[0;34m,\u001b[0m \u001b[0msuffix\u001b[0m\u001b[0;34m)\u001b[0m\u001b[0;34m:\u001b[0m\u001b[0;34m\u001b[0m\u001b[0;34m\u001b[0m\u001b[0m\n",
            "\u001b[0;31mValueError\u001b[0m: columns overlap but no suffix specified: RangeIndex(start=0, stop=1, step=1)"
          ]
        }
      ]
    },
    {
      "cell_type": "code",
      "source": [
        "  #merge lists\n",
        "dataHockey2 = team+data[0]+data[1]+data[2]+data[3]+data[4]"
      ],
      "metadata": {
        "colab": {
          "base_uri": "https://localhost:8080/",
          "height": 184
        },
        "id": "lKb2L2RlgSPB",
        "outputId": "d8d1c4f3-4682-4d7c-ff47-9765378a39ab"
      },
      "execution_count": null,
      "outputs": [
        {
          "output_type": "error",
          "ename": "IndexError",
          "evalue": "ignored",
          "traceback": [
            "\u001b[0;31m---------------------------------------------------------------------------\u001b[0m",
            "\u001b[0;31mIndexError\u001b[0m                                Traceback (most recent call last)",
            "\u001b[0;32m<ipython-input-13-01403325faee>\u001b[0m in \u001b[0;36m<module>\u001b[0;34m()\u001b[0m\n\u001b[1;32m      1\u001b[0m \u001b[0;31m#merge lists\u001b[0m\u001b[0;34m\u001b[0m\u001b[0;34m\u001b[0m\u001b[0;34m\u001b[0m\u001b[0m\n\u001b[0;32m----> 2\u001b[0;31m \u001b[0mdataHockey2\u001b[0m \u001b[0;34m=\u001b[0m \u001b[0mteam\u001b[0m\u001b[0;34m+\u001b[0m\u001b[0mdata\u001b[0m\u001b[0;34m[\u001b[0m\u001b[0;36m0\u001b[0m\u001b[0;34m]\u001b[0m\u001b[0;34m+\u001b[0m\u001b[0mdata\u001b[0m\u001b[0;34m[\u001b[0m\u001b[0;36m1\u001b[0m\u001b[0;34m]\u001b[0m\u001b[0;34m+\u001b[0m\u001b[0mdata\u001b[0m\u001b[0;34m[\u001b[0m\u001b[0;36m2\u001b[0m\u001b[0;34m]\u001b[0m\u001b[0;34m+\u001b[0m\u001b[0mdata\u001b[0m\u001b[0;34m[\u001b[0m\u001b[0;36m3\u001b[0m\u001b[0;34m]\u001b[0m\u001b[0;34m+\u001b[0m\u001b[0mdata\u001b[0m\u001b[0;34m[\u001b[0m\u001b[0;36m4\u001b[0m\u001b[0;34m]\u001b[0m\u001b[0;34m\u001b[0m\u001b[0;34m\u001b[0m\u001b[0m\n\u001b[0m",
            "\u001b[0;31mIndexError\u001b[0m: list index out of range"
          ]
        }
      ]
    },
    {
      "cell_type": "code",
      "source": [
        "dfR2 = pd.DataFrame(dataHockey2)\n",
        "dfR2.to_excel('Majestee_Hockey2.xlsx', sheet_name = \"détails2\" )\n",
        "print(\"done\")"
      ],
      "metadata": {
        "id": "dIGpm764gjtu"
      },
      "execution_count": null,
      "outputs": []
    },
    {
      "cell_type": "code",
      "source": [
        "print(len(team))"
      ],
      "metadata": {
        "colab": {
          "base_uri": "https://localhost:8080/"
        },
        "id": "qxzL0FfOYfYO",
        "outputId": "b759e56f-f902-4abb-f818-e09580e28498"
      },
      "execution_count": null,
      "outputs": [
        {
          "output_type": "stream",
          "name": "stdout",
          "text": [
            "0\n"
          ]
        }
      ]
    },
    {
      "cell_type": "code",
      "source": [
        "dataHockey.clear()\n",
        "data.clear()\n",
        "team.clear()"
      ],
      "metadata": {
        "id": "Bs8yguSAQYti"
      },
      "execution_count": null,
      "outputs": []
    },
    {
      "cell_type": "code",
      "source": [
        "##OK\n",
        "\n",
        "url = f'https://hockey.be/fr/club-details/?id=CF4MF9Y'\n",
        "\n",
        "xhtml = url_get_contents(url).decode('utf-8')\n",
        "r = requests.get(url, headers=headers)\n",
        "soup = BeautifulSoup(r.text, \"html.parser\")\n",
        "  \n",
        "#fonctino part 1: title\n",
        "name = soup.find('h1', class_=\"club-name\").text\n",
        "team.append(name)\n",
        "\n",
        "#fonction part 2: table\n",
        "\n",
        "  # Defining the HTMLTableParser object\n",
        "p = HTMLTableParser()\n",
        " \n",
        "  # feeding the html contents in the HTMLTableParser object\n",
        "p.feed(xhtml)\n",
        " \n",
        "  # Now finally obtaining the data of the table required\n",
        "  #pprint(p.tables[1])\n",
        "\n",
        "  #append list\n",
        "data = (p.tables[1])\n",
        "\n",
        "  #merge lists\n",
        "dataHockey = team + data[0]+data[1]+data[2]+data[3]+data[4]+data[5]+data[6]  "
      ],
      "metadata": {
        "id": "fjmuabqWU7Kj"
      },
      "execution_count": null,
      "outputs": []
    },
    {
      "cell_type": "code",
      "source": [
        "data"
      ],
      "metadata": {
        "colab": {
          "base_uri": "https://localhost:8080/"
        },
        "id": "k4YRP8LvkPkd",
        "outputId": "54a1142b-1f3c-4f3f-e60c-0bc35ec9341f"
      },
      "execution_count": null,
      "outputs": [
        {
          "output_type": "execute_result",
          "data": {
            "text/plain": [
              "[['Club ID', 'CF4MF9Y'],\n",
              " ['Adresse', 'Wittebrugstraat 6'],\n",
              " ['Code postal', '4562CA'],\n",
              " ['Localité', 'HULST'],\n",
              " ['Téléphone', '0031 114-312510'],\n",
              " ['E-mail', 'info@mhcrapide.nl'],\n",
              " ['Site web', 'http://www.mhcrapide.nl']]"
            ]
          },
          "metadata": {},
          "execution_count": 20
        }
      ]
    },
    {
      "cell_type": "code",
      "source": [
        "print(len(dataHockey))\n",
        "print(len(team))\n",
        "print(len(data))\n",
        "print(team)\n",
        "print(data)\n",
        "print(data[2])"
      ],
      "metadata": {
        "colab": {
          "base_uri": "https://localhost:8080/"
        },
        "id": "OhLq4bqsZ9am",
        "outputId": "77648c73-aafb-4dc1-cc3b-22901e5b4dfb"
      },
      "execution_count": null,
      "outputs": [
        {
          "output_type": "stream",
          "name": "stdout",
          "text": [
            "15\n",
            "1\n",
            "7\n"
          ]
        }
      ]
    },
    {
      "cell_type": "code",
      "source": [
        "df = pd.read_excel('/content/testHockey.xlsx')"
      ],
      "metadata": {
        "id": "pWj5I7Q9lTnj"
      },
      "execution_count": null,
      "outputs": []
    },
    {
      "cell_type": "code",
      "source": [
        "url = f'https://hockey.be/fr/club-details/?id=CC6VH8V'\n",
        "\n",
        "xhtml = url_get_contents(url).decode('utf-8')\n",
        " \n",
        "  # Defining the HTMLTableParser object\n",
        "p = HTMLTableParser()\n",
        " \n",
        "  # feeding the html contents in the HTMLTableParser object\n",
        "p.feed(xhtml)\n",
        " \n",
        "  # Now finally obtaining the data of the table required\n",
        "  #pprint(p.tables[1])\n",
        "\n",
        "  #append list\n",
        "data = (p.tables[1])\n",
        "listevide.append(data)\n",
        "\n",
        "#merge lists\n",
        "\n",
        "#dataHockey = data[0]+data[0]+data[1]+data[2]+data[3]+data[4]+data[5]+data[6]\n",
        "\n",
        "#dataHockey\n"
      ],
      "metadata": {
        "id": "SpNSW0wvMV0G"
      },
      "execution_count": null,
      "outputs": []
    },
    {
      "cell_type": "code",
      "source": [
        "listevide"
      ],
      "metadata": {
        "colab": {
          "base_uri": "https://localhost:8080/"
        },
        "id": "ejFcY8eok8O_",
        "outputId": "a629647c-2ba9-4ed6-95dc-b53908fc264b"
      },
      "execution_count": null,
      "outputs": [
        {
          "output_type": "execute_result",
          "data": {
            "text/plain": [
              "[]"
            ]
          },
          "metadata": {},
          "execution_count": 37
        }
      ]
    },
    {
      "cell_type": "code",
      "source": [
        "def getHockey(test):\n",
        "  url = f'https://hockey.be/fr/club-details/?id={test}'\n",
        "\n",
        "  xhtml = url_get_contents(url).decode('utf-8')\n",
        "\n",
        "  #beautiful soup\n",
        "  r = requests.get(url, headers=headers)\n",
        "  soup = BeautifulSoup(r.text, \"html.parser\")\n",
        "  \n",
        "#fonction part 1: title\n",
        "  name = soup.find('h1', class_=\"club-name\").text\n",
        "  team.append(name)\n",
        "\n",
        "#fonction part 2: table\n",
        "\n",
        "  # Defining the HTMLTableParser object\n",
        "  p = HTMLTableParser()\n",
        " \n",
        "  # feeding the html contents in the HTMLTableParser object\n",
        "  p.feed(xhtml)\n",
        " \n",
        "  # Now finally obtaining the data of the table required\n",
        "  #pprint(p.tables[1])\n",
        "\n",
        "  #append list\n",
        "  data = (p.tables[1])\n",
        "  listevide.append(data)\n",
        "\n",
        "  #merge lists\n",
        "  #dataHockey = team+data[0]+data[1]+data[2]+data[3]+data[4]+data[5]+data[6]\n",
        "\n",
        "  return"
      ],
      "metadata": {
        "id": "bgxKgQCmTQxX"
      },
      "execution_count": null,
      "outputs": []
    },
    {
      "cell_type": "code",
      "source": [
        "LLL = ['CC6VC9H', 'CC6TZ98', 'CC6VB0F']"
      ],
      "metadata": {
        "id": "ETNqpbn5nLtS"
      },
      "execution_count": null,
      "outputs": []
    },
    {
      "cell_type": "code",
      "source": [
        "for i in LLL:\n",
        "  getHockey(i)"
      ],
      "metadata": {
        "id": "4RyQE0KGetbk"
      },
      "execution_count": null,
      "outputs": []
    },
    {
      "cell_type": "code",
      "source": [
        "listevide"
      ],
      "metadata": {
        "colab": {
          "base_uri": "https://localhost:8080/"
        },
        "id": "G1uxAxIglyMD",
        "outputId": "8a842289-d09b-4dd6-9c49-d0a62029bb09"
      },
      "execution_count": null,
      "outputs": [
        {
          "output_type": "execute_result",
          "data": {
            "text/plain": [
              "[[['Club ID', 'CC6VC9H'],\n",
              "  ['Adresse', \"Drève d'Argenteuil 23\"],\n",
              "  ['Code postal', '1410'],\n",
              "  ['Localité', 'WATERLOO'],\n",
              "  ['Téléphone', '02/354.00.41'],\n",
              "  ['E-mail', 'laurencecoleswolfs@gmail.com'],\n",
              "  ['Site web', '']],\n",
              " [['Club ID', 'CC6TZ98'],\n",
              "  ['Adresse', 'Avenue du Gros Tilleul 43'],\n",
              "  ['Code postal', '1020'],\n",
              "  ['Localité', 'LAKEN'],\n",
              "  ['Téléphone', '0473701585'],\n",
              "  ['E-mail', 'info@primerose-hockey.be'],\n",
              "  ['Site web', 'http://www.primerose-hockey.be']],\n",
              " [['Club ID', 'CC6VB0F'],\n",
              "  ['Adresse', 'Avenue des Chênes 125'],\n",
              "  ['Code postal', '1180'],\n",
              "  ['Localité', 'UCCLE'],\n",
              "  ['Téléphone', '023744181'],\n",
              "  ['E-mail', 'info@royalracing1891.be'],\n",
              "  ['Site web', 'http://www.royalracing1891.be']]]"
            ]
          },
          "metadata": {},
          "execution_count": 43
        }
      ]
    },
    {
      "cell_type": "code",
      "source": [
        ""
      ],
      "metadata": {
        "id": "UKwy0lWQl4C4"
      },
      "execution_count": null,
      "outputs": []
    }
  ]
}